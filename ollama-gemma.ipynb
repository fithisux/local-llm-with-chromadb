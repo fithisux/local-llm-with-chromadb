{
 "cells": [
  {
   "cell_type": "markdown",
   "id": "db3f13f9-a95c-49a1-9af7-73ff1122489c",
   "metadata": {},
   "source": [
    "Tested on windows based on this wonderful [video](https://www.youtube.com/watch?v=6oGbsAg8x5E) need to install gemma 2b on ollama like in the video.\n",
    "\n",
    "Also, download the Trial by Sorcery file from this [site](here https://manybooks.net/titles/trial-by-sorcer)"
   ]
  },
  {
   "cell_type": "code",
   "execution_count": 9,
   "id": "db0f9aad-9b7b-47e7-aea1-412137d34b22",
   "metadata": {},
   "outputs": [
    {
     "name": "stdout",
     "output_type": "stream",
     "text": [
      "Requirement already satisfied: faiss-cpu in c:\\winoss\\python311\\lib\\site-packages (1.7.4)\n",
      "Requirement already satisfied: pypdf in c:\\winoss\\python311\\lib\\site-packages (4.0.2)\n"
     ]
    }
   ],
   "source": [
    "!pip install faiss-cpu pypdf"
   ]
  },
  {
   "cell_type": "code",
   "execution_count": 1,
   "id": "2d9f4064-a12e-4195-a4e5-3cff38fc2dad",
   "metadata": {},
   "outputs": [],
   "source": [
    "import os\n",
    "os.environ[\"OMP_NUM_THREADS\"] = \"10\""
   ]
  },
  {
   "cell_type": "code",
   "execution_count": 3,
   "id": "e2a328c4-0b69-4886-816f-13f2fc430d56",
   "metadata": {},
   "outputs": [
    {
     "name": "stderr",
     "output_type": "stream",
     "text": [
      "No sentence-transformers model found with name WhereIsAI/UAE-Large-V1. Creating a new one with MEAN pooling.\n"
     ]
    },
    {
     "name": "stdout",
     "output_type": "stream",
     "text": [
      "2: Trial\tby\tSorcery\t©\t2020\tby\tRichard\tFierce\n",
      "\t\n",
      "\t\n",
      "This\tis\ta\twork\tof\tfiction.\tAll\tevents\tportrayed\tin\tthis\tbook\tare\tfictitious,\tand\n",
      "any\tresemblance\tto\treal\tpeople\tor\tevents\tis\tpurely\tcoincidental.\tAll\trights\n",
      "reserved,\tincluding\tthe\tright\tto\treproduce\tthis\tbook\tor\tportions\tthereof\tin\n",
      "any\tform\twithout\tthe\t\n",
      "121: OTHER\tBOOKS\n",
      "\t\n",
      "Hey\tthere!\n",
      "I\twrite\tfantasy\tand\tspace\topera,\tand\tyou\tcan\tfind\tall\tmy\tbooks\tin\tmany\n",
      "different\teBook\tstores.\tYou\tcan\tcheck\tout\tmy\twebsite\tfor\tmore\tinformation\n",
      "about\tmy\tbooks,\tmy\tnext\tprojects,\tand\tevents\tI’ll\tbe\tattending\twhere\tyou\tcan\n",
      "meet\tme\tand\teven\tget\tsigned\tbooks.\n",
      "If\tyou\tenjoyed\tthi\n"
     ]
    }
   ],
   "source": [
    "# Import necessary libraries                                                                                                                                                                                                                    \n",
    "from langchain.embeddings import HuggingFaceEmbeddings                                                                                                                                                                                    \n",
    "from langchain_community.vectorstores import FAISS                                                                                                                                                                                                                                                                                                                                                                                                \n",
    "from langchain_community.document_loaders import PyPDFLoader                                                                                                                                                                                                                                                                                                                                                                                                                                                                                                                                                           \n",
    "\n",
    "loader = PyPDFLoader(\"./Trial-by-Sorcery.pdf\")\n",
    "pages = loader.load_and_split()\n",
    "                                                                                                                                                                                                                                                                                                                                       \n",
    "model_id = \"WhereIsAI/UAE-Large-V1\"\n",
    "model_kwargs = {'device': 'cpu'}\n",
    "embeddings = HuggingFaceEmbeddings(\n",
    "    model_name=model_id,\n",
    "    model_kwargs=model_kwargs\n",
    ")\n",
    "\n",
    "faiss_index = FAISS.from_documents(pages, embeddings)\n",
    "inquiry = \"Who is the author of this book?\"  \n",
    "docs = faiss_index.similarity_search(inquiry, k=2)\n",
    "for doc in docs:\n",
    "    print(str(doc.metadata[\"page\"]) + \":\", doc.page_content[:300]) "
   ]
  },
  {
   "cell_type": "code",
   "execution_count": 4,
   "id": "a285d238-1fe4-4cc8-8332-7931ddfbdddd",
   "metadata": {},
   "outputs": [
    {
     "name": "stderr",
     "output_type": "stream",
     "text": [
      "C:\\winoss\\Python311\\Lib\\site-packages\\langchain_core\\_api\\deprecation.py:117: LangChainDeprecationWarning: The function `run` was deprecated in LangChain 0.1.0 and will be removed in 0.2.0. Use invoke instead.\n",
      "  warn_deprecated(\n"
     ]
    },
    {
     "data": {
      "application/vnd.jupyter.widget-view+json": {
       "model_id": "9b92fd559e6c4c1d8d95b62bdaca4f5e",
       "version_major": 2,
       "version_minor": 0
      },
      "text/plain": [
       "tokenizer_config.json:   0%|          | 0.00/26.0 [00:00<?, ?B/s]"
      ]
     },
     "metadata": {},
     "output_type": "display_data"
    },
    {
     "name": "stderr",
     "output_type": "stream",
     "text": [
      "C:\\winoss\\Python311\\Lib\\site-packages\\huggingface_hub\\file_download.py:149: UserWarning: `huggingface_hub` cache-system uses symlinks by default to efficiently store duplicated files but your machine does not support them in C:\\Users\\VasilisAnagnostopoul\\.cache\\huggingface\\hub\\models--gpt2. Caching files will still work but in a degraded version that might require more space on your disk. This warning can be disabled by setting the `HF_HUB_DISABLE_SYMLINKS_WARNING` environment variable. For more details, see https://huggingface.co/docs/huggingface_hub/how-to-cache#limitations.\n",
      "To support symlinks on Windows, you either need to activate Developer Mode or to run Python as an administrator. In order to see activate developer mode, see this article: https://docs.microsoft.com/en-us/windows/apps/get-started/enable-your-device-for-development\n",
      "  warnings.warn(message)\n"
     ]
    },
    {
     "data": {
      "application/vnd.jupyter.widget-view+json": {
       "model_id": "05ec7deaade746cdafd2cdc048e89cfb",
       "version_major": 2,
       "version_minor": 0
      },
      "text/plain": [
       "vocab.json:   0%|          | 0.00/1.04M [00:00<?, ?B/s]"
      ]
     },
     "metadata": {},
     "output_type": "display_data"
    },
    {
     "data": {
      "application/vnd.jupyter.widget-view+json": {
       "model_id": "a5a56b1be60d4eaa993c8723ab727c9d",
       "version_major": 2,
       "version_minor": 0
      },
      "text/plain": [
       "merges.txt:   0%|          | 0.00/456k [00:00<?, ?B/s]"
      ]
     },
     "metadata": {},
     "output_type": "display_data"
    },
    {
     "data": {
      "application/vnd.jupyter.widget-view+json": {
       "model_id": "ed16c4b9072a4957ac234a8c5b35cee2",
       "version_major": 2,
       "version_minor": 0
      },
      "text/plain": [
       "tokenizer.json:   0%|          | 0.00/1.36M [00:00<?, ?B/s]"
      ]
     },
     "metadata": {},
     "output_type": "display_data"
    },
    {
     "data": {
      "application/vnd.jupyter.widget-view+json": {
       "model_id": "bd11774e2e414c758091d4fc48a1dc4f",
       "version_major": 2,
       "version_minor": 0
      },
      "text/plain": [
       "config.json:   0%|          | 0.00/665 [00:00<?, ?B/s]"
      ]
     },
     "metadata": {},
     "output_type": "display_data"
    },
    {
     "data": {
      "text/plain": [
       "'The author of this book is Richard Fierce.\\n\\nThe text says that the author of this book is Richard Fierce.'"
      ]
     },
     "execution_count": 4,
     "metadata": {},
     "output_type": "execute_result"
    }
   ],
   "source": [
    "from langchain_community.chat_models import ChatOllama  \n",
    "from langchain.chains.question_answering import load_qa_chain \n",
    "\n",
    "llm = ChatOllama(model=\"gemma:2b\")                                                                                                                                                                                       \n",
    "                                                                                                                                                                                                                                                                                                                                                                                                                                                                                            \n",
    "chain = load_qa_chain(\n",
    "    llm,\n",
    "    chain_type=\"map_reduce\")                     \n",
    "                                                                                                                                                                                                                                              \n",
    "# Perform first sample of question answering.                                                                                                                                                                                                                                                                                                                                                                                              \n",
    "chain.run(input_documents=docs, question=inquiry)                                                                                                                                                                                                                                                                                                                                                                                 "
   ]
  },
  {
   "cell_type": "code",
   "execution_count": null,
   "id": "8d8f541d-60f3-4539-8201-27daf268878f",
   "metadata": {},
   "outputs": [],
   "source": []
  }
 ],
 "metadata": {
  "kernelspec": {
   "display_name": "Python 3 (ipykernel)",
   "language": "python",
   "name": "python3"
  },
  "language_info": {
   "codemirror_mode": {
    "name": "ipython",
    "version": 3
   },
   "file_extension": ".py",
   "mimetype": "text/x-python",
   "name": "python",
   "nbconvert_exporter": "python",
   "pygments_lexer": "ipython3",
   "version": "3.11.8"
  }
 },
 "nbformat": 4,
 "nbformat_minor": 5
}
